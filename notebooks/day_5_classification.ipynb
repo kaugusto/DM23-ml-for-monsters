{
 "cells": [
  {
   "cell_type": "code",
   "execution_count": 27,
   "id": "bd84b04b",
   "metadata": {},
   "outputs": [],
   "source": [
    "# Load Data\n",
    "import torch\n",
    "import torch.nn as nn\n",
    "from torch import optim\n",
    "import numpy as np\n",
    "import random\n",
    "import gensim.downloader as api\n",
    "import pandas as pd\n"
   ]
  },
  {
   "cell_type": "markdown",
   "id": "232076f8",
   "metadata": {},
   "source": [
    "# The Task: 'Toxicity' Modeling\n",
    "\n",
    "In 2016 Google published a Kaggle competition called 'toxic comments', offering a prize to the user who could make the best model for predicting whether a given comment was toxic.\n",
    "\n",
    "https://www.kaggle.com/c/jigsaw-toxic-comment-classification-challenge\n",
    "\n",
    "By offering a prize for the best model, google employed a shadow labor force of skilled workers---over 5000 submissions to date. \n",
    "\n",
    "kaggle is a good place to look for datasets. \n",
    "\n",
    "The data comes from Wikipedia talk pages. "
   ]
  },
  {
   "cell_type": "markdown",
   "id": "09b79a13",
   "metadata": {},
   "source": [
    "This dataset is already stored in huggingface: \n",
    "    https://huggingface.co/datasets"
   ]
  },
  {
   "cell_type": "code",
   "execution_count": 28,
   "id": "3cf06e69",
   "metadata": {},
   "outputs": [],
   "source": [
    "from datasets import load_dataset\n",
    "\n",
    "dataset = load_dataset(\"jigsaw_toxicity_pred\", data_dir='../data/jigsaw-toxic-comment-classification-challenge/')\n"
   ]
  },
  {
   "cell_type": "markdown",
   "id": "d58f66e0",
   "metadata": {},
   "source": [
    "Some examples labeled toxic."
   ]
  },
  {
   "cell_type": "markdown",
   "id": "6649e7f2",
   "metadata": {},
   "source": [
    "# Exploratory Data Analysis\n",
    "## Let's examine our data."
   ]
  },
  {
   "cell_type": "markdown",
   "id": "a42be4f0",
   "metadata": {},
   "source": [
    "the data get returned to us as a Dataset object. ie an instance of the huggingface Datasets class. To see what you can do see the documentation here: https://huggingface.co/datasets"
   ]
  },
  {
   "cell_type": "markdown",
   "id": "9e72b2f9",
   "metadata": {},
   "source": [
    "in the huggingface datasets library, a split is a specific subset of a dataset like train and test. List a dataset’s split names with the get_dataset_split_names() function. This data is already segmented for us"
   ]
  },
  {
   "cell_type": "code",
   "execution_count": 29,
   "id": "dac579f0",
   "metadata": {},
   "outputs": [
    {
     "data": {
      "text/plain": [
       "['train', 'test']"
      ]
     },
     "execution_count": 29,
     "metadata": {},
     "output_type": "execute_result"
    }
   ],
   "source": [
    "from datasets import get_dataset_split_names\n",
    "\n",
    "get_dataset_split_names(\"jigsaw_toxicity_pred\")\n"
   ]
  },
  {
   "cell_type": "markdown",
   "id": "5c1d6ab3",
   "metadata": {},
   "source": [
    "let's look at the first entry in the train split"
   ]
  },
  {
   "cell_type": "code",
   "execution_count": 30,
   "id": "38a1d106",
   "metadata": {},
   "outputs": [
    {
     "data": {
      "text/plain": [
       "{'comment_text': \"Explanation\\nWhy the edits made under my username Hardcore Metallica Fan were reverted? They weren't vandalisms, just closure on some GAs after I voted at New York Dolls FAC. And please don't remove the template from the talk page since I'm retired now.89.205.38.27\",\n",
       " 'toxic': 0,\n",
       " 'severe_toxic': 0,\n",
       " 'obscene': 0,\n",
       " 'threat': 0,\n",
       " 'insult': 0,\n",
       " 'identity_hate': 0}"
      ]
     },
     "execution_count": 30,
     "metadata": {},
     "output_type": "execute_result"
    }
   ],
   "source": [
    "# let's look at just train\n",
    "train = dataset['train']\n",
    "\n",
    "# Get the first row in the train set. \n",
    "train[0] #"
   ]
  },
  {
   "cell_type": "markdown",
   "id": "6534e5ce",
   "metadata": {},
   "source": [
    "Use the - operator to start from the end of the dataset:"
   ]
  },
  {
   "cell_type": "code",
   "execution_count": 31,
   "id": "1745971e",
   "metadata": {},
   "outputs": [
    {
     "data": {
      "text/plain": [
       "{'comment_text': '\"\\nAnd ... I really don\\'t think you understand.  I came here and my idea was bad right away.  What kind of community goes \"\"you have bad ideas\"\" go away, instead of helping rewrite them.   \"',\n",
       " 'toxic': 0,\n",
       " 'severe_toxic': 0,\n",
       " 'obscene': 0,\n",
       " 'threat': 0,\n",
       " 'insult': 0,\n",
       " 'identity_hate': 0}"
      ]
     },
     "execution_count": 31,
     "metadata": {},
     "output_type": "execute_result"
    }
   ],
   "source": [
    "# Get the last row in the train set\n",
    "\n",
    "train[-1]"
   ]
  },
  {
   "cell_type": "markdown",
   "id": "b0afaa15",
   "metadata": {},
   "source": [
    "Indexing by the column name returns a list of all the values in the column:"
   ]
  },
  {
   "cell_type": "code",
   "execution_count": 32,
   "id": "18a63df8",
   "metadata": {},
   "outputs": [
    {
     "data": {
      "text/plain": [
       "\"Explanation\\nWhy the edits made under my username Hardcore Metallica Fan were reverted? They weren't vandalisms, just closure on some GAs after I voted at New York Dolls FAC. And please don't remove the template from the talk page since I'm retired now.89.205.38.27\""
      ]
     },
     "execution_count": 32,
     "metadata": {},
     "output_type": "execute_result"
    }
   ],
   "source": [
    "train[\"comment_text\"][0]"
   ]
  },
  {
   "cell_type": "markdown",
   "id": "e04201dc",
   "metadata": {},
   "source": [
    "You can combine row and column name indexing to return a specific value at a position:"
   ]
  },
  {
   "cell_type": "code",
   "execution_count": 33,
   "id": "540ab419",
   "metadata": {},
   "outputs": [
    {
     "data": {
      "text/plain": [
       "\"Explanation\\nWhy the edits made under my username Hardcore Metallica Fan were reverted? They weren't vandalisms, just closure on some GAs after I voted at New York Dolls FAC. And please don't remove the template from the talk page since I'm retired now.89.205.38.27\""
      ]
     },
     "execution_count": 33,
     "metadata": {},
     "output_type": "execute_result"
    }
   ],
   "source": [
    "train[0][\"comment_text\"]"
   ]
  },
  {
   "cell_type": "markdown",
   "id": "9810e271",
   "metadata": {},
   "source": [
    "But it is important to remember that indexing order matters, especially when working with large audio and image datasets. Indexing by the column name returns all the values in the column first, then loads the value at that position. For large datasets, it may be slower to index by the column name first."
   ]
  },
  {
   "cell_type": "markdown",
   "id": "3d3c5a45",
   "metadata": {},
   "source": [
    "### Aside: dataframes\n",
    "\n",
    "We are using the built in Datasets class from hugginface, which is useful because it allows us to download a ton of datasets right in Jupyter. But plain old Pandas dataframes are very powerful for storing, examining, manipulating, and transforming data."
   ]
  },
  {
   "cell_type": "markdown",
   "id": "d43833df",
   "metadata": {},
   "source": [
    "Make a dataframe from our Dataset object"
   ]
  },
  {
   "cell_type": "code",
   "execution_count": 34,
   "id": "52e260b3",
   "metadata": {
    "scrolled": true
   },
   "outputs": [],
   "source": [
    "df = pd.DataFrame.from_records(train)"
   ]
  },
  {
   "cell_type": "code",
   "execution_count": 35,
   "id": "4c42702a",
   "metadata": {},
   "outputs": [
    {
     "data": {
      "text/html": [
       "<div>\n",
       "<style scoped>\n",
       "    .dataframe tbody tr th:only-of-type {\n",
       "        vertical-align: middle;\n",
       "    }\n",
       "\n",
       "    .dataframe tbody tr th {\n",
       "        vertical-align: top;\n",
       "    }\n",
       "\n",
       "    .dataframe thead th {\n",
       "        text-align: right;\n",
       "    }\n",
       "</style>\n",
       "<table border=\"1\" class=\"dataframe\">\n",
       "  <thead>\n",
       "    <tr style=\"text-align: right;\">\n",
       "      <th></th>\n",
       "      <th>comment_text</th>\n",
       "      <th>toxic</th>\n",
       "      <th>severe_toxic</th>\n",
       "      <th>obscene</th>\n",
       "      <th>threat</th>\n",
       "      <th>insult</th>\n",
       "      <th>identity_hate</th>\n",
       "    </tr>\n",
       "  </thead>\n",
       "  <tbody>\n",
       "    <tr>\n",
       "      <th>6</th>\n",
       "      <td>COCKSUCKER BEFORE YOU PISS AROUND ON MY WORK</td>\n",
       "      <td>1</td>\n",
       "      <td>1</td>\n",
       "      <td>1</td>\n",
       "      <td>0</td>\n",
       "      <td>1</td>\n",
       "      <td>0</td>\n",
       "    </tr>\n",
       "    <tr>\n",
       "      <th>12</th>\n",
       "      <td>Hey... what is it..\\n@ | talk .\\nWhat is it......</td>\n",
       "      <td>1</td>\n",
       "      <td>0</td>\n",
       "      <td>0</td>\n",
       "      <td>0</td>\n",
       "      <td>0</td>\n",
       "      <td>0</td>\n",
       "    </tr>\n",
       "    <tr>\n",
       "      <th>16</th>\n",
       "      <td>Bye! \\n\\nDon't look, come or think of comming ...</td>\n",
       "      <td>1</td>\n",
       "      <td>0</td>\n",
       "      <td>0</td>\n",
       "      <td>0</td>\n",
       "      <td>0</td>\n",
       "      <td>0</td>\n",
       "    </tr>\n",
       "    <tr>\n",
       "      <th>42</th>\n",
       "      <td>You are gay or antisemmitian? \\n\\nArchangel WH...</td>\n",
       "      <td>1</td>\n",
       "      <td>0</td>\n",
       "      <td>1</td>\n",
       "      <td>0</td>\n",
       "      <td>1</td>\n",
       "      <td>1</td>\n",
       "    </tr>\n",
       "    <tr>\n",
       "      <th>43</th>\n",
       "      <td>FUCK YOUR FILTHY MOTHER IN THE ASS, DRY!</td>\n",
       "      <td>1</td>\n",
       "      <td>0</td>\n",
       "      <td>1</td>\n",
       "      <td>0</td>\n",
       "      <td>1</td>\n",
       "      <td>0</td>\n",
       "    </tr>\n",
       "    <tr>\n",
       "      <th>...</th>\n",
       "      <td>...</td>\n",
       "      <td>...</td>\n",
       "      <td>...</td>\n",
       "      <td>...</td>\n",
       "      <td>...</td>\n",
       "      <td>...</td>\n",
       "      <td>...</td>\n",
       "    </tr>\n",
       "    <tr>\n",
       "      <th>159494</th>\n",
       "      <td>\"\\n\\n our previous conversation \\n\\nyou fuckin...</td>\n",
       "      <td>1</td>\n",
       "      <td>0</td>\n",
       "      <td>1</td>\n",
       "      <td>0</td>\n",
       "      <td>1</td>\n",
       "      <td>1</td>\n",
       "    </tr>\n",
       "    <tr>\n",
       "      <th>159514</th>\n",
       "      <td>YOU ARE A MISCHIEVIOUS PUBIC HAIR</td>\n",
       "      <td>1</td>\n",
       "      <td>0</td>\n",
       "      <td>0</td>\n",
       "      <td>0</td>\n",
       "      <td>1</td>\n",
       "      <td>0</td>\n",
       "    </tr>\n",
       "    <tr>\n",
       "      <th>159541</th>\n",
       "      <td>Your absurd edits \\n\\nYour absurd edits on gre...</td>\n",
       "      <td>1</td>\n",
       "      <td>0</td>\n",
       "      <td>1</td>\n",
       "      <td>0</td>\n",
       "      <td>1</td>\n",
       "      <td>0</td>\n",
       "    </tr>\n",
       "    <tr>\n",
       "      <th>159546</th>\n",
       "      <td>\"\\n\\nHey listen don't you ever!!!! Delete my e...</td>\n",
       "      <td>1</td>\n",
       "      <td>0</td>\n",
       "      <td>0</td>\n",
       "      <td>0</td>\n",
       "      <td>1</td>\n",
       "      <td>0</td>\n",
       "    </tr>\n",
       "    <tr>\n",
       "      <th>159554</th>\n",
       "      <td>and i'm going to keep posting the stuff u dele...</td>\n",
       "      <td>1</td>\n",
       "      <td>0</td>\n",
       "      <td>1</td>\n",
       "      <td>0</td>\n",
       "      <td>1</td>\n",
       "      <td>0</td>\n",
       "    </tr>\n",
       "  </tbody>\n",
       "</table>\n",
       "<p>15294 rows × 7 columns</p>\n",
       "</div>"
      ],
      "text/plain": [
       "                                             comment_text  toxic  \\\n",
       "6            COCKSUCKER BEFORE YOU PISS AROUND ON MY WORK      1   \n",
       "12      Hey... what is it..\\n@ | talk .\\nWhat is it......      1   \n",
       "16      Bye! \\n\\nDon't look, come or think of comming ...      1   \n",
       "42      You are gay or antisemmitian? \\n\\nArchangel WH...      1   \n",
       "43               FUCK YOUR FILTHY MOTHER IN THE ASS, DRY!      1   \n",
       "...                                                   ...    ...   \n",
       "159494  \"\\n\\n our previous conversation \\n\\nyou fuckin...      1   \n",
       "159514                  YOU ARE A MISCHIEVIOUS PUBIC HAIR      1   \n",
       "159541  Your absurd edits \\n\\nYour absurd edits on gre...      1   \n",
       "159546  \"\\n\\nHey listen don't you ever!!!! Delete my e...      1   \n",
       "159554  and i'm going to keep posting the stuff u dele...      1   \n",
       "\n",
       "        severe_toxic  obscene  threat  insult  identity_hate  \n",
       "6                  1        1       0       1              0  \n",
       "12                 0        0       0       0              0  \n",
       "16                 0        0       0       0              0  \n",
       "42                 0        1       0       1              1  \n",
       "43                 0        1       0       1              0  \n",
       "...              ...      ...     ...     ...            ...  \n",
       "159494             0        1       0       1              1  \n",
       "159514             0        0       0       1              0  \n",
       "159541             0        1       0       1              0  \n",
       "159546             0        0       0       1              0  \n",
       "159554             0        1       0       1              0  \n",
       "\n",
       "[15294 rows x 7 columns]"
      ]
     },
     "execution_count": 35,
     "metadata": {},
     "output_type": "execute_result"
    }
   ],
   "source": [
    "df[df['toxic']==1]"
   ]
  },
  {
   "cell_type": "markdown",
   "id": "60fb03cd",
   "metadata": {},
   "source": [
    "## Multi-label vs Binary classification"
   ]
  },
  {
   "cell_type": "markdown",
   "id": "a6ceed85",
   "metadata": {},
   "source": [
    "Each example is a dictionary with comment text and then 6 annotations, which are coded for either 1 or 0. This is a multilabel classification problem. We are going to simplify it first into a binary classification task. Given a post, is it 'toxic' or not? \n",
    "\n",
    "What are the inputs to the model? what is the output?"
   ]
  },
  {
   "cell_type": "markdown",
   "id": "b157a360",
   "metadata": {},
   "source": [
    "# Pre-processing the Data"
   ]
  },
  {
   "cell_type": "code",
   "execution_count": null,
   "id": "3f566162-3dd6-49aa-8e62-32683eade5cc",
   "metadata": {},
   "outputs": [],
   "source": []
  },
  {
   "cell_type": "markdown",
   "id": "de5f1cd7",
   "metadata": {},
   "source": [
    "We have to transform our text inputs to numbers. How have we been doing this so far?"
   ]
  },
  {
   "cell_type": "code",
   "execution_count": 36,
   "id": "9210c63f-95ac-42c8-96ad-bccec0f58931",
   "metadata": {},
   "outputs": [],
   "source": [
    "a: embeddings"
   ]
  },
  {
   "cell_type": "markdown",
   "id": "9dbc0ca0",
   "metadata": {},
   "source": [
    "<img src=\"../img/fullyconnected.png\" alt=\"Alternative text\" />"
   ]
  },
  {
   "cell_type": "markdown",
   "id": "f7703efc",
   "metadata": {},
   "source": [
    "Another way to think of the layer of input neurons is as a vector. in fact, this is how we represent the weights in each layer of the network.\n",
    "\n",
    "How can we represent the comment text as a vector? \n",
    "\n"
   ]
  },
  {
   "cell_type": "markdown",
   "id": "e9468420",
   "metadata": {},
   "source": [
    "## Loading embeddings"
   ]
  },
  {
   "cell_type": "markdown",
   "id": "996102e2",
   "metadata": {},
   "source": [
    "We can use embeddings.\n",
    "\n",
    "Let's load our word embeddings that we trained on X. "
   ]
  },
  {
   "cell_type": "code",
   "execution_count": 37,
   "id": "270593db",
   "metadata": {},
   "outputs": [
    {
     "data": {
      "text/plain": [
       "'\\nMISSING\\n'"
      ]
     },
     "execution_count": 37,
     "metadata": {},
     "output_type": "execute_result"
    }
   ],
   "source": [
    "\"\"\"\n",
    "MISSING\n",
    "\"\"\"\n",
    "\n",
    "# load word2vec embeddings we trained"
   ]
  },
  {
   "cell_type": "markdown",
   "id": "7b04d8c3",
   "metadata": {},
   "source": [
    "Alternately, we can use pretrained vectors or embeddings downloaded from the internet. We can use Word2Vec, or GloVe, which is a model that came out a few years later and works very well. "
   ]
  },
  {
   "cell_type": "markdown",
   "id": "3b7d453e",
   "metadata": {},
   "source": [
    "We use `gensim` which is a great library for working with embeddings and training topic models"
   ]
  },
  {
   "cell_type": "code",
   "execution_count": 38,
   "id": "72904f06",
   "metadata": {},
   "outputs": [],
   "source": [
    "info = api.info()"
   ]
  },
  {
   "cell_type": "markdown",
   "id": "dd6716ec",
   "metadata": {},
   "source": [
    "Print out available models (i.e. embeddings)"
   ]
  },
  {
   "cell_type": "code",
   "execution_count": 39,
   "id": "fcbf9af8",
   "metadata": {},
   "outputs": [
    {
     "name": "stdout",
     "output_type": "stream",
     "text": [
      "__testing_word2vec-matrix-synopsis (-1 records): [THIS IS ONLY FOR TESTING] Word vecrors ...\n",
      "conceptnet-numberbatch-17-06-300 (1917247 records): ConceptNet Numberbatch consists of state...\n",
      "fasttext-wiki-news-subwords-300 (999999 records): 1 million word vectors trained on Wikipe...\n",
      "glove-twitter-100 (1193514 records): Pre-trained vectors based on  2B tweets,...\n",
      "glove-twitter-200 (1193514 records): Pre-trained vectors based on 2B tweets, ...\n",
      "glove-twitter-25 (1193514 records): Pre-trained vectors based on 2B tweets, ...\n",
      "glove-twitter-50 (1193514 records): Pre-trained vectors based on 2B tweets, ...\n",
      "glove-wiki-gigaword-100 (400000 records): Pre-trained vectors based on Wikipedia 2...\n",
      "glove-wiki-gigaword-200 (400000 records): Pre-trained vectors based on Wikipedia 2...\n",
      "glove-wiki-gigaword-300 (400000 records): Pre-trained vectors based on Wikipedia 2...\n",
      "glove-wiki-gigaword-50 (400000 records): Pre-trained vectors based on Wikipedia 2...\n",
      "word2vec-google-news-300 (3000000 records): Pre-trained vectors trained on a part of...\n",
      "word2vec-ruscorpora-300 (184973 records): Word2vec Continuous Skipgram vectors tra...\n"
     ]
    }
   ],
   "source": [
    "for model_name, model_data in sorted(info['models'].items()):\n",
    "    print(\n",
    "        '%s (%d records): %s' % (\n",
    "            model_name,\n",
    "            model_data.get('num_records', -1),\n",
    "            model_data['description'][:40] + '...',\n",
    "        )\n",
    "    )"
   ]
  },
  {
   "cell_type": "markdown",
   "id": "cdef2fda",
   "metadata": {},
   "source": [
    "We'll continue with twitter embeddings. Feel free to sub in a different kind and see what kind of results you get."
   ]
  },
  {
   "cell_type": "code",
   "execution_count": 40,
   "id": "4107874c",
   "metadata": {},
   "outputs": [],
   "source": [
    "# download the model and return as object ready for use\n",
    "#embeddings_glove_twitter = api.load(\"glove-twitter-50\")\n",
    "embeddings = api.load(\"glove-twitter-100\")\n",
    "\n"
   ]
  },
  {
   "cell_type": "markdown",
   "id": "3ab47b07",
   "metadata": {},
   "source": [
    "We can access the embedding of a single word in the dictionary like this"
   ]
  },
  {
   "cell_type": "code",
   "execution_count": 41,
   "id": "0d7bb142",
   "metadata": {},
   "outputs": [
    {
     "data": {
      "text/plain": [
       "array([-0.072944 ,  0.31349  , -0.37301  , -0.74591  ,  0.024118 ,\n",
       "        0.26288  , -0.52766  ,  0.45845  ,  0.66482  , -0.32284  ,\n",
       "        0.070524 , -0.23753  , -1.9064   , -0.12384  ,  0.34087  ,\n",
       "        0.10557  ,  0.64763  , -1.5884   ,  0.28275  , -0.48506  ,\n",
       "        0.37902  , -0.28709  , -0.0066354,  0.24017  , -0.034383 ,\n",
       "       -0.3468   , -0.0061342, -0.12497  , -0.011999 , -0.63745  ,\n",
       "       -0.35676  , -0.17062  , -0.86248  ,  0.18034  ,  0.1995   ,\n",
       "       -0.25941  ,  0.2586   ,  0.17861  ,  0.7617   ,  0.8704   ,\n",
       "       -0.53839  ,  0.38899  ,  0.27174  ,  0.33564  , -0.29995  ,\n",
       "        0.9688   ,  0.15263  , -0.48423  ,  0.70449  ,  0.1936   ,\n",
       "       -0.30026  , -0.46582  , -0.11025  , -1.3443   ,  0.7221   ,\n",
       "        0.41727  ,  0.078679 , -0.34484  , -0.24705  , -0.65691  ,\n",
       "       -0.22723  , -0.68642  ,  0.30941  ,  0.38086  ,  0.029261 ,\n",
       "       -0.22846  , -0.33021  , -0.48214  , -0.28144  , -0.17876  ,\n",
       "        0.071934 ,  0.17553  ,  0.49776  , -0.44887  ,  0.020932 ,\n",
       "        0.15791  ,  0.20464  ,  0.27814  ,  0.3431   ,  0.33648  ,\n",
       "        0.29166  ,  0.33483  , -1.0122   , -0.20511  , -0.51084  ,\n",
       "       -0.11805  , -0.37913  , -0.57463  ,  0.70959  ,  0.15359  ,\n",
       "       -0.32583  ,  0.20893  , -0.79571  , -0.46678  ,  0.43836  ,\n",
       "        0.54177  , -0.18551  ,  1.282    , -0.18846  , -0.098897 ],\n",
       "      dtype=float32)"
      ]
     },
     "execution_count": 41,
     "metadata": {},
     "output_type": "execute_result"
    }
   ],
   "source": [
    "embeddings['sup']"
   ]
  },
  {
   "cell_type": "markdown",
   "id": "d86c25ae",
   "metadata": {},
   "source": [
    "# Preprocessing"
   ]
  },
  {
   "cell_type": "markdown",
   "id": "fe2158ba",
   "metadata": {},
   "source": [
    "## Transform model inputs into vector representation  (x) "
   ]
  },
  {
   "cell_type": "markdown",
   "id": "52b8eb2e",
   "metadata": {},
   "source": [
    "First we need to transform the input text into a vector representation. \n",
    "\n",
    "Let's write a function that constructs an input vector from the training example. It will take a single example in the form of a dictionary OR a comment string, and should have a switch depending on the type of the input. This will help us down the road "
   ]
  },
  {
   "cell_type": "markdown",
   "id": "364f8a70",
   "metadata": {},
   "source": [
    "what needs to happen in this function?"
   ]
  },
  {
   "cell_type": "code",
   "execution_count": 42,
   "id": "7d60fe1c",
   "metadata": {},
   "outputs": [],
   "source": [
    "def form_input(example, embeddings):\n",
    "    \"\"\"\n",
    "    :example: training example from huggingface dataset in the form of a dictionary, e.g.\n",
    "    \n",
    "    {'comment_text': '\"\\nAnd ... I really don\\'t think you understand.  I came here and my idea was bad right away.  What kind of community goes \"\"you have bad ideas\"\" go away, instead of helping rewrite them.   \"',\n",
    "     'toxic': 0,\n",
    "     'severe_toxic': 0,\n",
    "     'obscene': 0,\n",
    "     'threat': 0,\n",
    "     'insult': 0,\n",
    "     'identity_hate': 0}\n",
    "\n",
    "    returns a dictionary with a new key, x, which maps to a vector representing the comment\n",
    "    \"\"\"\n",
    "    \n",
    "    if isinstance(example, str):\n",
    "        raise Exception(\"not implemented\")\n",
    "    else:\n",
    "        raise Exception(\"not implemented\")\n",
    "        \n",
    "    example['x'] = None\n",
    "    return example"
   ]
  },
  {
   "cell_type": "markdown",
   "id": "7584dd29",
   "metadata": {},
   "source": [
    "We need to process the input string into words. It makes sense to use the same tokenization function we used for the w2v training corpus, because those are the vectors we have to work with."
   ]
  },
  {
   "cell_type": "code",
   "execution_count": 43,
   "id": "9e778603",
   "metadata": {},
   "outputs": [],
   "source": [
    "import re\n",
    "\n",
    "def tokenize(string):\n",
    "    \"\"\"\n",
    "    tokenization function from n-gram models\n",
    "    \"\"\"\n",
    "    tokenized = re.sub(r'(\\w)([.,?!;:])', r'\\1 \\2', string) \n",
    "    tokenized = tokenized.split()\n",
    "    tokenized = [word.lower() for word in tokenized]\n",
    "    return tokenized"
   ]
  },
  {
   "cell_type": "code",
   "execution_count": 51,
   "id": "1992c9a1",
   "metadata": {},
   "outputs": [],
   "source": [
    "def form_input(example, word_embeddings):\n",
    "    \"\"\"\n",
    "    :example: training example from huggingface dataset in the form of a dictionary, e.g.\n",
    "    \n",
    "    {'comment_text': '\"\\nAnd ... I really don\\'t think you understand.  I came here and my idea was bad right away.  What kind of community goes \"\"you have bad ideas\"\" go away, instead of helping rewrite them.   \"',\n",
    "     'toxic': 0,\n",
    "     'severe_toxic': 0,\n",
    "     'obscene': 0,\n",
    "     'threat': 0,\n",
    "     'insult': 0,\n",
    "     'identity_hate': 0}\n",
    "\n",
    "    returns a dictionary with a new key, x, which maps to a vector representing the comment\n",
    "    \"\"\"\n",
    "    \n",
    "    # get the tokens\n",
    "    if isinstance(example, str):\n",
    "        tokens = tokenize(example)\n",
    "        example = {} # dummy input dict\n",
    "    else:\n",
    "        tokens = tokenize(example['comment_text'])\n",
    "\n",
    "        # tokens = [\"segf\",\"awe\"]\n",
    "        # embeddings \n",
    "\n",
    "        vectors = [embeddings[t] for t in tokens]\n",
    "\n",
    "        \n",
    "\n",
    "        \n",
    "        \n",
    "    # get the vectors for each token and average them into one vector\n",
    "    vecs = []\n",
    "    for word in tokens:\n",
    "        try:\n",
    "            vec = word_embeddings[word]\n",
    "        except KeyError: # this token is not in our embeddings dictionary\n",
    "            vec = np.zeros(word_embeddings.vector_size)\n",
    "        vecs.append(vec)\n",
    "    \n",
    "    centroid = np.mean(vecs, axis=0)\n",
    "    \n",
    "    # convert numpy array to torch tensor\n",
    "    torch_tensor = torch.from_numpy(centroid).float()\n",
    "    \n",
    "    # return the same example with a new key 'x' containing the vectorized input\n",
    "    # example['x'] = torch_tensor\n",
    "    example['x'] = centroid\n",
    "    return example"
   ]
  },
  {
   "cell_type": "code",
   "execution_count": 52,
   "id": "4cca5fd3-116a-4673-86de-c3bae50ca061",
   "metadata": {},
   "outputs": [
    {
     "data": {
      "text/plain": [
       "{'x': array([ 0.02811934,  0.01134666,  0.064648  ,  0.4508567 , -0.19203   ,\n",
       "         0.23058133,  0.16306323, -0.05258501,  0.22441666,  0.35127833,\n",
       "         0.17506166, -0.22616668, -4.2064385 , -0.130898  , -0.05190283,\n",
       "        -0.11419783,  0.05207833, -0.15887333, -0.27789333, -0.20398398,\n",
       "        -0.11011901,  0.06850133, -0.16275083,  0.230263  ,  0.288115  ,\n",
       "        -0.72416997,  0.06175267,  0.17263532,  0.05422334, -0.29975167,\n",
       "        -0.345325  , -0.11183766, -0.02660634,  0.09518132, -0.46431866,\n",
       "         0.28865   , -0.144839  ,  0.26856667,  0.32010666, -0.15639667,\n",
       "        -0.82060415,  0.28755298, -0.04442   ,  0.04758999,  0.155905  ,\n",
       "        -0.061172  ,  0.08584667,  0.06134185,  0.15439667,  0.20977919,\n",
       "        -0.13046001,  0.18997884,  0.19542266, -0.30403498,  0.4323765 ,\n",
       "         0.02775649, -0.6237783 , -0.044715  ,  0.03132983,  0.40435883,\n",
       "         0.167084  ,  0.07760134, -0.051705  ,  0.19622315,  0.03124   ,\n",
       "        -0.05763416, -0.46400836,  0.14215769, -0.04404084,  0.264505  ,\n",
       "         0.19791001,  0.33376667,  0.11397167, -0.05436666, -0.15643834,\n",
       "        -0.05984668,  0.4079895 , -0.30748448, -0.39384583,  0.36256084,\n",
       "         1.3506083 ,  0.09317333, -0.4619    , -0.029935  ,  0.23192066,\n",
       "         0.27507332, -0.3753667 ,  0.08313501, -0.2027617 , -0.04109   ,\n",
       "        -0.27239335, -0.007326  ,  0.01421333,  0.33831334, -0.09398001,\n",
       "         0.35618535, -0.18196   , -0.24236332,  0.405983  , -0.07918999],\n",
       "       dtype=float32)}"
      ]
     },
     "execution_count": 52,
     "metadata": {},
     "output_type": "execute_result"
    }
   ],
   "source": [
    "form_input(\"fuck you, you fcuking fuck\", embeddings)"
   ]
  },
  {
   "cell_type": "markdown",
   "id": "88064ede",
   "metadata": {},
   "source": [
    "We test out our form_input function and see that it adds a new key to the example dict"
   ]
  },
  {
   "cell_type": "code",
   "execution_count": 53,
   "id": "bc87f531",
   "metadata": {},
   "outputs": [
    {
     "ename": "KeyError",
     "evalue": "\"Key 'weren't' not present\"",
     "output_type": "error",
     "traceback": [
      "\u001b[0;31m---------------------------------------------------------------------------\u001b[0m",
      "\u001b[0;31mKeyError\u001b[0m                                  Traceback (most recent call last)",
      "Cell \u001b[0;32mIn[53], line 2\u001b[0m\n\u001b[1;32m      1\u001b[0m sample \u001b[38;5;241m=\u001b[39m train[\u001b[38;5;241m0\u001b[39m]\n\u001b[0;32m----> 2\u001b[0m \u001b[43mform_input\u001b[49m\u001b[43m(\u001b[49m\u001b[43msample\u001b[49m\u001b[43m,\u001b[49m\u001b[43m \u001b[49m\u001b[43membeddings\u001b[49m\u001b[43m)\u001b[49m\n",
      "Cell \u001b[0;32mIn[51], line 26\u001b[0m, in \u001b[0;36mform_input\u001b[0;34m(example, word_embeddings)\u001b[0m\n\u001b[1;32m     21\u001b[0m     tokens \u001b[38;5;241m=\u001b[39m tokenize(example[\u001b[38;5;124m'\u001b[39m\u001b[38;5;124mcomment_text\u001b[39m\u001b[38;5;124m'\u001b[39m])\n\u001b[1;32m     23\u001b[0m     \u001b[38;5;66;03m# tokens = [\"segf\",\"awe\"]\u001b[39;00m\n\u001b[1;32m     24\u001b[0m     \u001b[38;5;66;03m# embeddings \u001b[39;00m\n\u001b[0;32m---> 26\u001b[0m     vectors \u001b[38;5;241m=\u001b[39m \u001b[43m[\u001b[49m\u001b[43membeddings\u001b[49m\u001b[43m[\u001b[49m\u001b[43mt\u001b[49m\u001b[43m]\u001b[49m\u001b[43m \u001b[49m\u001b[38;5;28;43;01mfor\u001b[39;49;00m\u001b[43m \u001b[49m\u001b[43mt\u001b[49m\u001b[43m \u001b[49m\u001b[38;5;129;43;01min\u001b[39;49;00m\u001b[43m \u001b[49m\u001b[43mtokens\u001b[49m\u001b[43m]\u001b[49m\n\u001b[1;32m     32\u001b[0m \u001b[38;5;66;03m# get the vectors for each token and average them into one vector\u001b[39;00m\n\u001b[1;32m     33\u001b[0m vecs \u001b[38;5;241m=\u001b[39m []\n",
      "Cell \u001b[0;32mIn[51], line 26\u001b[0m, in \u001b[0;36m<listcomp>\u001b[0;34m(.0)\u001b[0m\n\u001b[1;32m     21\u001b[0m     tokens \u001b[38;5;241m=\u001b[39m tokenize(example[\u001b[38;5;124m'\u001b[39m\u001b[38;5;124mcomment_text\u001b[39m\u001b[38;5;124m'\u001b[39m])\n\u001b[1;32m     23\u001b[0m     \u001b[38;5;66;03m# tokens = [\"segf\",\"awe\"]\u001b[39;00m\n\u001b[1;32m     24\u001b[0m     \u001b[38;5;66;03m# embeddings \u001b[39;00m\n\u001b[0;32m---> 26\u001b[0m     vectors \u001b[38;5;241m=\u001b[39m [\u001b[43membeddings\u001b[49m\u001b[43m[\u001b[49m\u001b[43mt\u001b[49m\u001b[43m]\u001b[49m \u001b[38;5;28;01mfor\u001b[39;00m t \u001b[38;5;129;01min\u001b[39;00m tokens]\n\u001b[1;32m     32\u001b[0m \u001b[38;5;66;03m# get the vectors for each token and average them into one vector\u001b[39;00m\n\u001b[1;32m     33\u001b[0m vecs \u001b[38;5;241m=\u001b[39m []\n",
      "File \u001b[0;32m/opt/conda/lib/python3.11/site-packages/gensim/models/keyedvectors.py:403\u001b[0m, in \u001b[0;36mKeyedVectors.__getitem__\u001b[0;34m(self, key_or_keys)\u001b[0m\n\u001b[1;32m    389\u001b[0m \u001b[38;5;250m\u001b[39m\u001b[38;5;124;03m\"\"\"Get vector representation of `key_or_keys`.\u001b[39;00m\n\u001b[1;32m    390\u001b[0m \n\u001b[1;32m    391\u001b[0m \u001b[38;5;124;03mParameters\u001b[39;00m\n\u001b[0;32m   (...)\u001b[0m\n\u001b[1;32m    400\u001b[0m \n\u001b[1;32m    401\u001b[0m \u001b[38;5;124;03m\"\"\"\u001b[39;00m\n\u001b[1;32m    402\u001b[0m \u001b[38;5;28;01mif\u001b[39;00m \u001b[38;5;28misinstance\u001b[39m(key_or_keys, _KEY_TYPES):\n\u001b[0;32m--> 403\u001b[0m     \u001b[38;5;28;01mreturn\u001b[39;00m \u001b[38;5;28;43mself\u001b[39;49m\u001b[38;5;241;43m.\u001b[39;49m\u001b[43mget_vector\u001b[49m\u001b[43m(\u001b[49m\u001b[43mkey_or_keys\u001b[49m\u001b[43m)\u001b[49m\n\u001b[1;32m    405\u001b[0m \u001b[38;5;28;01mreturn\u001b[39;00m vstack([\u001b[38;5;28mself\u001b[39m\u001b[38;5;241m.\u001b[39mget_vector(key) \u001b[38;5;28;01mfor\u001b[39;00m key \u001b[38;5;129;01min\u001b[39;00m key_or_keys])\n",
      "File \u001b[0;32m/opt/conda/lib/python3.11/site-packages/gensim/models/keyedvectors.py:446\u001b[0m, in \u001b[0;36mKeyedVectors.get_vector\u001b[0;34m(self, key, norm)\u001b[0m\n\u001b[1;32m    422\u001b[0m \u001b[38;5;28;01mdef\u001b[39;00m \u001b[38;5;21mget_vector\u001b[39m(\u001b[38;5;28mself\u001b[39m, key, norm\u001b[38;5;241m=\u001b[39m\u001b[38;5;28;01mFalse\u001b[39;00m):\n\u001b[1;32m    423\u001b[0m \u001b[38;5;250m    \u001b[39m\u001b[38;5;124;03m\"\"\"Get the key's vector, as a 1D numpy array.\u001b[39;00m\n\u001b[1;32m    424\u001b[0m \n\u001b[1;32m    425\u001b[0m \u001b[38;5;124;03m    Parameters\u001b[39;00m\n\u001b[0;32m   (...)\u001b[0m\n\u001b[1;32m    444\u001b[0m \n\u001b[1;32m    445\u001b[0m \u001b[38;5;124;03m    \"\"\"\u001b[39;00m\n\u001b[0;32m--> 446\u001b[0m     index \u001b[38;5;241m=\u001b[39m \u001b[38;5;28;43mself\u001b[39;49m\u001b[38;5;241;43m.\u001b[39;49m\u001b[43mget_index\u001b[49m\u001b[43m(\u001b[49m\u001b[43mkey\u001b[49m\u001b[43m)\u001b[49m\n\u001b[1;32m    447\u001b[0m     \u001b[38;5;28;01mif\u001b[39;00m norm:\n\u001b[1;32m    448\u001b[0m         \u001b[38;5;28mself\u001b[39m\u001b[38;5;241m.\u001b[39mfill_norms()\n",
      "File \u001b[0;32m/opt/conda/lib/python3.11/site-packages/gensim/models/keyedvectors.py:420\u001b[0m, in \u001b[0;36mKeyedVectors.get_index\u001b[0;34m(self, key, default)\u001b[0m\n\u001b[1;32m    418\u001b[0m     \u001b[38;5;28;01mreturn\u001b[39;00m default\n\u001b[1;32m    419\u001b[0m \u001b[38;5;28;01melse\u001b[39;00m:\n\u001b[0;32m--> 420\u001b[0m     \u001b[38;5;28;01mraise\u001b[39;00m \u001b[38;5;167;01mKeyError\u001b[39;00m(\u001b[38;5;124mf\u001b[39m\u001b[38;5;124m\"\u001b[39m\u001b[38;5;124mKey \u001b[39m\u001b[38;5;124m'\u001b[39m\u001b[38;5;132;01m{\u001b[39;00mkey\u001b[38;5;132;01m}\u001b[39;00m\u001b[38;5;124m'\u001b[39m\u001b[38;5;124m not present\u001b[39m\u001b[38;5;124m\"\u001b[39m)\n",
      "\u001b[0;31mKeyError\u001b[0m: \"Key 'weren't' not present\""
     ]
    }
   ],
   "source": [
    "sample = train[0]\n",
    "form_input(sample, embeddings)"
   ]
  },
  {
   "cell_type": "markdown",
   "id": "e9513b75",
   "metadata": {},
   "source": [
    "we can also use a regular string as input"
   ]
  },
  {
   "cell_type": "code",
   "execution_count": 54,
   "id": "2c3f7df2",
   "metadata": {},
   "outputs": [
    {
     "data": {
      "text/plain": [
       "{'x': array([ 0.095279  ,  0.059992  ,  0.13705759,  0.49236003, -0.24676602,\n",
       "        -0.0165944 ,  0.32601985, -0.03514801,  0.0622496 ,  0.47403723,\n",
       "         0.12793799, -0.080112  , -5.2482595 , -0.2469496 , -0.1907184 ,\n",
       "        -0.0444044 , -0.005334  , -0.1239496 , -0.433752  , -0.15544479,\n",
       "        -0.22081602,  0.02698599, -0.13078442,  0.17862199,  0.636536  ,\n",
       "        -0.758012  ,  0.0469492 ,  0.22871597, -0.032672  , -0.387164  ,\n",
       "        -0.44408798, -0.23165521, -0.16098759, -0.0405344 , -0.44118243,\n",
       "         0.35053402, -0.18633   ,  0.373294  ,  0.43902603, -0.30212998,\n",
       "        -0.899114  ,  0.21428959, -0.09860601, -0.10665802,  0.361494  ,\n",
       "        -0.1636624 ,  0.18448   ,  0.235944  ,  0.25262   ,  0.261711  ,\n",
       "        -0.2349462 ,  0.28258198,  0.262682  , -0.32094198,  0.610094  ,\n",
       "         0.05624299, -0.69200003,  0.025616  , -0.111052  ,  0.43973398,\n",
       "         0.124874  ,  0.0639364 , -0.04205   ,  0.21510401,  0.065932  ,\n",
       "        -0.19254479, -0.55749804,  0.41179925,  0.02629801,  0.22348602,\n",
       "         0.14019799,  0.30729598,  0.150616  , -0.05550599, -0.22283602,\n",
       "         0.084736  ,  0.43780342, -0.23283942, -0.447681  ,  0.2623232 ,\n",
       "         1.88998   ,  0.1060686 , -0.51227605, -0.14537   ,  0.2335608 ,\n",
       "         0.1835844 , -0.523636  , -0.029728  , -0.22489738, -0.13762   ,\n",
       "        -0.250498  ,  0.0523602 , -0.148424  ,  0.44628802, -0.14685841,\n",
       "         0.5199664 , -0.275184  , -0.15473601,  0.608214  , -0.01782   ],\n",
       "       dtype=float32)}"
      ]
     },
     "execution_count": 54,
     "metadata": {},
     "output_type": "execute_result"
    }
   ],
   "source": [
    "form_input(\"fuck you you fucking fuck\", embeddings)"
   ]
  },
  {
   "cell_type": "markdown",
   "id": "f865d669",
   "metadata": {},
   "source": [
    "## Preprocessing: Model Outputs\n",
    "\n",
    "We need to transform the output label into vector representation (gold y). \n",
    "\n",
    "### Question: What is our golf "
   ]
  },
  {
   "cell_type": "code",
   "execution_count": 55,
   "id": "188fd769",
   "metadata": {},
   "outputs": [],
   "source": [
    "def form_output(example):\n",
    "    example['y'] = example['toxic']\n",
    "    return example"
   ]
  },
  {
   "cell_type": "code",
   "execution_count": 56,
   "id": "757e6d3b",
   "metadata": {},
   "outputs": [
    {
     "data": {
      "text/plain": [
       "{'comment_text': \"Explanation\\nWhy the edits made under my username Hardcore Metallica Fan were reverted? They weren't vandalisms, just closure on some GAs after I voted at New York Dolls FAC. And please don't remove the template from the talk page since I'm retired now.89.205.38.27\",\n",
       " 'toxic': 0,\n",
       " 'severe_toxic': 0,\n",
       " 'obscene': 0,\n",
       " 'threat': 0,\n",
       " 'insult': 0,\n",
       " 'identity_hate': 0,\n",
       " 'y': 0}"
      ]
     },
     "execution_count": 56,
     "metadata": {},
     "output_type": "execute_result"
    }
   ],
   "source": [
    "form_output(sample)"
   ]
  },
  {
   "cell_type": "markdown",
   "id": "53abe894",
   "metadata": {},
   "source": [
    "# Building the Pytorch Model\n",
    "\n",
    "We have several decisions to make.\n",
    "\n",
    "- What is the shape of the input?\n",
    "- What is the shape of the output?\n",
    "- What form do we want the output to take? \n",
    "- How many layers do we want the model to have?\n",
    "- What activation function should we use at each layer?\n",
    "- Do we use dropout?\n",
    "\n"
   ]
  },
  {
   "cell_type": "code",
   "execution_count": null,
   "id": "e7430054-12ef-4043-950b-c7dd31d8e2c4",
   "metadata": {},
   "outputs": [],
   "source": [
    "one matrix, dimensions of "
   ]
  },
  {
   "cell_type": "markdown",
   "id": "cb42c308",
   "metadata": {},
   "source": [
    "We subclass nn.Module (which itself is a class and able to keep track of state). In this case, we want to create a class that holds our weights, bias, and method for the forward step. nn.Module has a number of attributes and methods (such as .parameters() and .zero_grad()) which we will be using.\n",
    "\n",
    "We also can store the loss function here as well.\n",
    "\n",
    "Here is an example FFNN.\n"
   ]
  },
  {
   "cell_type": "code",
   "execution_count": 57,
   "id": "a9e29833",
   "metadata": {},
   "outputs": [],
   "source": [
    "class FFNN(nn.Module):\n",
    "    \"\"\"\n",
    "    Defines the core neural network for doing binary classification over a single datapoint at a time. This consists\n",
    "    of matrix multiplication, tanh nonlinearity, another matrix multiplication, and then\n",
    "    a sigmoid layer to give the ouputs.\n",
    "\n",
    "    The forward() function does the important computation. The backward() method is inherited from nn.Module and\n",
    "    handles backpropagation.\n",
    "    \"\"\"\n",
    "    def __init__(self, word_embeddings, inp, hid, out):\n",
    "        \"\"\"\n",
    "        Constructs the computation graph by instantiating the various layers and initializing weights.\n",
    "\n",
    "        :param inp: size of input (integer)\n",
    "        :param hid: size of hidden layer(integer)\n",
    "        :param out: size of output (integer), which should be the number of classes\n",
    "        \"\"\"\n",
    "        super(FFNN, self).__init__()\n",
    "        self.V = nn.Linear(inp, hid)\n",
    "        self.g = nn.Tanh()\n",
    "        #self.g = nn.ReLU()\n",
    "        self.W = nn.Linear(hid, out)\n",
    "        self.sigmoid = nn.Sigmoid()\n",
    "        \n",
    "        # Initialize weights according to a formula due to Xavier Glorot.\n",
    "        nn.init.xavier_uniform_(self.V.weight)\n",
    "        nn.init.xavier_uniform_(self.W.weight)\n",
    "        \n",
    "        self.num_classes = out\n",
    "        self.loss = nn.BCELoss()\n",
    "        \n",
    "\n",
    "    def forward(self, x):\n",
    "        \"\"\"\n",
    "        Runs the neural network on the given data and returns log probabilities of the various classes.\n",
    "\n",
    "        :param x: a [inp]-sized tensor of input data\n",
    "        :return: an [out]-sized tensor of log probabilities. (In general your network can be set up to return either log\n",
    "        probabilities or a tuple of (loss, log probability) if you want to pass in y to this function as well\n",
    "        \"\"\"\n",
    "        raise Exception (\"not implemented!!!\")\n",
    "    "
   ]
  },
  {
   "cell_type": "markdown",
   "id": "1ac6cee0",
   "metadata": {},
   "source": [
    "Since we’re now using an object instead of just using a function, we first have to instantiate our model\n",
    "\n",
    "- how many input dimensions does it have? output?"
   ]
  },
  {
   "cell_type": "code",
   "execution_count": 58,
   "id": "a50ef9a6",
   "metadata": {},
   "outputs": [
    {
     "ename": "TypeError",
     "evalue": "empty() received an invalid combination of arguments - got (tuple, dtype=NoneType, device=NoneType), but expected one of:\n * (tuple of ints size, *, tuple of names names, torch.memory_format memory_format, torch.dtype dtype, torch.layout layout, torch.device device, bool pin_memory, bool requires_grad)\n * (tuple of ints size, *, torch.memory_format memory_format, Tensor out, torch.dtype dtype, torch.layout layout, torch.device device, bool pin_memory, bool requires_grad)\n",
     "output_type": "error",
     "traceback": [
      "\u001b[0;31m---------------------------------------------------------------------------\u001b[0m",
      "\u001b[0;31mTypeError\u001b[0m                                 Traceback (most recent call last)",
      "Cell \u001b[0;32mIn[58], line 5\u001b[0m\n\u001b[1;32m      2\u001b[0m hidden \u001b[38;5;241m=\u001b[39m \u001b[38;5;28;01mNone\u001b[39;00m\n\u001b[1;32m      3\u001b[0m output \u001b[38;5;241m=\u001b[39m \u001b[38;5;28;01mNone\u001b[39;00m\n\u001b[0;32m----> 5\u001b[0m model \u001b[38;5;241m=\u001b[39m \u001b[43mFFNN\u001b[49m\u001b[43m(\u001b[49m\u001b[43membeddings\u001b[49m\u001b[43m,\u001b[49m\u001b[43m \u001b[49m\u001b[43mdimensions\u001b[49m\u001b[43m,\u001b[49m\u001b[43mhidden\u001b[49m\u001b[43m,\u001b[49m\u001b[43moutput\u001b[49m\u001b[43m)\u001b[49m\n\u001b[1;32m      6\u001b[0m \u001b[38;5;28mprint\u001b[39m(model)\n",
      "Cell \u001b[0;32mIn[57], line 19\u001b[0m, in \u001b[0;36mFFNN.__init__\u001b[0;34m(self, word_embeddings, inp, hid, out)\u001b[0m\n\u001b[1;32m     11\u001b[0m \u001b[38;5;250m\u001b[39m\u001b[38;5;124;03m\"\"\"\u001b[39;00m\n\u001b[1;32m     12\u001b[0m \u001b[38;5;124;03mConstructs the computation graph by instantiating the various layers and initializing weights.\u001b[39;00m\n\u001b[1;32m     13\u001b[0m \n\u001b[0;32m   (...)\u001b[0m\n\u001b[1;32m     16\u001b[0m \u001b[38;5;124;03m:param out: size of output (integer), which should be the number of classes\u001b[39;00m\n\u001b[1;32m     17\u001b[0m \u001b[38;5;124;03m\"\"\"\u001b[39;00m\n\u001b[1;32m     18\u001b[0m \u001b[38;5;28msuper\u001b[39m(FFNN, \u001b[38;5;28mself\u001b[39m)\u001b[38;5;241m.\u001b[39m\u001b[38;5;21m__init__\u001b[39m()\n\u001b[0;32m---> 19\u001b[0m \u001b[38;5;28mself\u001b[39m\u001b[38;5;241m.\u001b[39mV \u001b[38;5;241m=\u001b[39m \u001b[43mnn\u001b[49m\u001b[38;5;241;43m.\u001b[39;49m\u001b[43mLinear\u001b[49m\u001b[43m(\u001b[49m\u001b[43minp\u001b[49m\u001b[43m,\u001b[49m\u001b[43m \u001b[49m\u001b[43mhid\u001b[49m\u001b[43m)\u001b[49m\n\u001b[1;32m     20\u001b[0m \u001b[38;5;28mself\u001b[39m\u001b[38;5;241m.\u001b[39mg \u001b[38;5;241m=\u001b[39m nn\u001b[38;5;241m.\u001b[39mTanh()\n\u001b[1;32m     21\u001b[0m \u001b[38;5;66;03m#self.g = nn.ReLU()\u001b[39;00m\n",
      "File \u001b[0;32m/opt/conda/lib/python3.11/site-packages/torch/nn/modules/linear.py:96\u001b[0m, in \u001b[0;36mLinear.__init__\u001b[0;34m(self, in_features, out_features, bias, device, dtype)\u001b[0m\n\u001b[1;32m     94\u001b[0m \u001b[38;5;28mself\u001b[39m\u001b[38;5;241m.\u001b[39min_features \u001b[38;5;241m=\u001b[39m in_features\n\u001b[1;32m     95\u001b[0m \u001b[38;5;28mself\u001b[39m\u001b[38;5;241m.\u001b[39mout_features \u001b[38;5;241m=\u001b[39m out_features\n\u001b[0;32m---> 96\u001b[0m \u001b[38;5;28mself\u001b[39m\u001b[38;5;241m.\u001b[39mweight \u001b[38;5;241m=\u001b[39m Parameter(\u001b[43mtorch\u001b[49m\u001b[38;5;241;43m.\u001b[39;49m\u001b[43mempty\u001b[49m\u001b[43m(\u001b[49m\u001b[43m(\u001b[49m\u001b[43mout_features\u001b[49m\u001b[43m,\u001b[49m\u001b[43m \u001b[49m\u001b[43min_features\u001b[49m\u001b[43m)\u001b[49m\u001b[43m,\u001b[49m\u001b[43m \u001b[49m\u001b[38;5;241;43m*\u001b[39;49m\u001b[38;5;241;43m*\u001b[39;49m\u001b[43mfactory_kwargs\u001b[49m\u001b[43m)\u001b[49m)\n\u001b[1;32m     97\u001b[0m \u001b[38;5;28;01mif\u001b[39;00m bias:\n\u001b[1;32m     98\u001b[0m     \u001b[38;5;28mself\u001b[39m\u001b[38;5;241m.\u001b[39mbias \u001b[38;5;241m=\u001b[39m Parameter(torch\u001b[38;5;241m.\u001b[39mempty(out_features, \u001b[38;5;241m*\u001b[39m\u001b[38;5;241m*\u001b[39mfactory_kwargs))\n",
      "\u001b[0;31mTypeError\u001b[0m: empty() received an invalid combination of arguments - got (tuple, dtype=NoneType, device=NoneType), but expected one of:\n * (tuple of ints size, *, tuple of names names, torch.memory_format memory_format, torch.dtype dtype, torch.layout layout, torch.device device, bool pin_memory, bool requires_grad)\n * (tuple of ints size, *, torch.memory_format memory_format, Tensor out, torch.dtype dtype, torch.layout layout, torch.device device, bool pin_memory, bool requires_grad)\n"
     ]
    }
   ],
   "source": [
    "dimensions = None\n",
    "hidden = None\n",
    "output = None\n",
    "\n",
    "model = FFNN(embeddings, dimensions,hidden,output)\n",
    "print(model)"
   ]
  },
  {
   "cell_type": "markdown",
   "id": "15769922",
   "metadata": {},
   "source": [
    "let's run the forward function to compute the output"
   ]
  },
  {
   "cell_type": "code",
   "execution_count": null,
   "id": "ae77c706",
   "metadata": {},
   "outputs": [],
   "source": [
    "example = train[0]\n",
    "print(example)\n",
    "inp = form_input(example, embeddings)\n",
    "outp = model.forward(inp['x'])\n",
    "outp"
   ]
  },
  {
   "cell_type": "markdown",
   "id": "d88305dc",
   "metadata": {},
   "source": [
    "we can access the logits of the returned value"
   ]
  },
  {
   "cell_type": "code",
   "execution_count": null,
   "id": "8d99d31b",
   "metadata": {},
   "outputs": [],
   "source": [
    "outp.detach()"
   ]
  },
  {
   "cell_type": "markdown",
   "id": "ed30ae11",
   "metadata": {},
   "source": [
    "And we can change the PyTorch tensor to a Numpy array"
   ]
  },
  {
   "cell_type": "code",
   "execution_count": null,
   "id": "00b59a5e",
   "metadata": {},
   "outputs": [],
   "source": [
    "outp.detach().numpy()"
   ]
  },
  {
   "cell_type": "markdown",
   "id": "d40dc1bf",
   "metadata": {},
   "source": [
    "# Making Predictions\n",
    "\n",
    "The final layer is a continuous, differentiable function. It will predict a number between 0 and 1. But we want our output to be either 0 or 1 with no in between. How do we transform this output logit into a prediction?"
   ]
  },
  {
   "cell_type": "markdown",
   "id": "d2d2aca0",
   "metadata": {},
   "source": [
    "Write a function called predict() that will generate a prediction that is either a 0 or a 1"
   ]
  },
  {
   "cell_type": "code",
   "execution_count": null,
   "id": "0c8ea42b",
   "metadata": {},
   "outputs": [],
   "source": [
    "def predict(model, word_embeddings, example) -> int:\n",
    "    raise Exception(\"not implemented!\")"
   ]
  },
  {
   "cell_type": "code",
   "execution_count": null,
   "id": "ed8e2ad2",
   "metadata": {},
   "outputs": [],
   "source": [
    "output = predict(model, embeddings, \"fuck you you fucking fuck\")\n",
    "output"
   ]
  },
  {
   "cell_type": "markdown",
   "id": "578dd9d6",
   "metadata": {},
   "source": [
    "The model doesn't know what google means by toxicity. we have to train it"
   ]
  },
  {
   "cell_type": "markdown",
   "id": "a2b1fad5",
   "metadata": {},
   "source": [
    "# Evaluate"
   ]
  },
  {
   "cell_type": "markdown",
   "id": "9400af01",
   "metadata": {},
   "source": [
    "First, a way to evaluate the model performance on a whole bunch of predictions"
   ]
  },
  {
   "cell_type": "code",
   "execution_count": null,
   "id": "9d146bb1",
   "metadata": {},
   "outputs": [],
   "source": [
    "def print_evaluation(golds, predictions):\n",
    "    \"\"\"\n",
    "    Prints evaluation statistics comparing golds and predictions, each of which is a sequence of 0/1 labels.\n",
    "    Prints accuracy as well as precision/recall/F1 of the positive class, which can sometimes be informative if either\n",
    "    the golds or predictions are highly biased.\n",
    "\n",
    "    :param golds: gold labels, list of ints\n",
    "    :param predictions: pred labels, list of ints\n",
    "    :return:\n",
    "    \"\"\"\n",
    "    \n",
    "    num_correct = 0\n",
    "    num_pos_correct = 0\n",
    "    num_pred = 0\n",
    "    num_gold = 0\n",
    "    num_total = 0\n",
    "    if len(golds) != len(predictions):\n",
    "        raise Exception(\"Mismatched gold/pred lengths: %i / %i\" % (len(golds), len(predictions)))\n",
    "    for idx in range(0, len(golds)):\n",
    "        gold = golds[idx]\n",
    "        #print(\"gold \", gold)\n",
    "        prediction = predictions[idx]\n",
    "        #print(\"prediction \", prediction)\n",
    "        if prediction == gold:\n",
    "            num_correct += 1\n",
    "        if prediction == 1:\n",
    "            num_pred += 1\n",
    "        if gold == 1:\n",
    "            num_gold += 1\n",
    "        if prediction == 1 and gold == 1:\n",
    "            num_pos_correct += 1\n",
    "        num_total += 1\n",
    "    acc = float(num_correct) / num_total\n",
    "    output_str = \"Accuracy: %i / %i = %f\" % (num_correct, num_total, acc)\n",
    "    prec = float(num_pos_correct) / num_pred if num_pred > 0 else 0.0\n",
    "    rec = float(num_pos_correct) / num_gold if num_gold > 0 else 0.0\n",
    "    f1 = 2 * prec * rec / (prec + rec) if prec > 0 and rec > 0 else 0.0\n",
    "    output_str += \";\\nPrecision (fraction of predicted positives that are correct): %i / %i = %f\" % (num_pos_correct, num_pred, prec)\n",
    "    output_str += \";\\nRecall (fraction of true positives predicted correctly): %i / %i = %f\" % (num_pos_correct, num_gold, rec)\n",
    "    output_str += \";\\nF1 (harmonic mean of precision and recall): %f;\\n\" % f1\n",
    "    print(output_str)\n",
    "    return acc, f1, output_str"
   ]
  },
  {
   "cell_type": "markdown",
   "id": "42818267",
   "metadata": {},
   "source": [
    "# Lab: Coding the Training Loop\n",
    "\n",
    "Your task will be to write the training loop for training the feed forward neural network.\n",
    "\n"
   ]
  },
  {
   "cell_type": "markdown",
   "id": "3c3bef02",
   "metadata": {},
   "source": [
    "### Get the data into the right shape"
   ]
  },
  {
   "cell_type": "markdown",
   "id": "ecb7f653",
   "metadata": {},
   "source": [
    "huggingface datasets has a .map() function that will alter our dataset in place. it asks for a function as its input.\n",
    "that function has to be of a particular type. in particular, it has to expect something of the same type as a single example (a dictionary) and return a dictionary. We define an anonymous function using a lambda expression that uses our form_input function. no need to worry about the details here unless you are interested because type calculus is sick and so are lambda expressions.\n"
   ]
  },
  {
   "cell_type": "code",
   "execution_count": null,
   "id": "ab866c27",
   "metadata": {},
   "outputs": [],
   "source": [
    "dataset = dataset.map(lambda ex: form_input(ex, embeddings))\n",
    "dataset['train'][0]"
   ]
  },
  {
   "cell_type": "markdown",
   "id": "0512b34e",
   "metadata": {},
   "source": [
    "now our dataset has an extra column with vector representations of each example. we do this once ahead of time rather than on the fly because we will iterate through our training and dev sets many times, and we don't want waste time running form_input over and over"
   ]
  },
  {
   "cell_type": "markdown",
   "id": "d02c085b",
   "metadata": {},
   "source": [
    "We do the same thing with form_output. clearly, we didnt need separate functions, but it helps to separate our thinking"
   ]
  },
  {
   "cell_type": "code",
   "execution_count": null,
   "id": "937a6998",
   "metadata": {},
   "outputs": [],
   "source": [
    "dataset = dataset.map(lambda ex: form_output(ex))\n",
    "dataset['train'][0]"
   ]
  },
  {
   "cell_type": "markdown",
   "id": "35cf65fd",
   "metadata": {},
   "source": [
    "### Dataset Split"
   ]
  },
  {
   "cell_type": "markdown",
   "id": "6eef4e97",
   "metadata": {},
   "source": [
    "Remember, the data are already split into train and test sets. "
   ]
  },
  {
   "cell_type": "markdown",
   "id": "33883612",
   "metadata": {},
   "source": [
    "It's normal to have a third small data split called val (validate) or dev, that we use to evaluate the model while the training loop is running. Then, at the end of training, we evaluate on the test set. The dev set can be used to do things like choose **hyperparameters** for the model---we can't use the test set for this because then we'd be 'cheating'"
   ]
  },
  {
   "cell_type": "code",
   "execution_count": null,
   "id": "80c0bca1",
   "metadata": {},
   "outputs": [],
   "source": [
    "# load training data\n",
    "\n",
    "train = dataset['train']\n",
    "dev = dataset['test']\n",
    "test = dataset['test']\n",
    "\n",
    "print(repr(len(train)) + \" / \" + repr(len(dev)) + \" / \" + repr(len(test)) + \" train/dev/test examples\")\n"
   ]
  },
  {
   "cell_type": "markdown",
   "id": "06cd0b46",
   "metadata": {},
   "source": [
    "Let's set the model hyperparameters. "
   ]
  },
  {
   "cell_type": "code",
   "execution_count": null,
   "id": "62cddb81",
   "metadata": {},
   "outputs": [],
   "source": [
    "# set hyperparameters\n",
    "\n",
    "num_epochs = 10\n",
    "hidden_size = 200\n",
    "initial_learning_rate = 0.1"
   ]
  },
  {
   "cell_type": "markdown",
   "id": "e7360659",
   "metadata": {},
   "source": [
    "We initialize a model and an optimizer"
   ]
  },
  {
   "cell_type": "code",
   "execution_count": null,
   "id": "340faf7a",
   "metadata": {},
   "outputs": [],
   "source": [
    "ffnn = FFNN(embeddings, embeddings.vector_size, hidden_size, 1)\n",
    "optimizer = optim.Adam(ffnn.parameters(), lr=initial_learning_rate)"
   ]
  },
  {
   "cell_type": "markdown",
   "id": "a87b21cb",
   "metadata": {},
   "source": [
    "Next we need to code the actual training loop. This loop will run through the training data for a set number of epochs. In each epoch, it should iterate through all of the training examples. Ideally, it will do this in a random order every time. You should run the example through the model, calculate the loss, and then use the loss to run the backward step. **be sure to zero out the gradients before calling the forward step!!** This is done with `ffnn.zero_grad()` Our loss function is stored in the FFNN object, and can be called using `ffnn.loss()`. The backpropagation step is run on the loss, i.e. `loss.backward()` (where `loss` is the loss computed at this time step). At the end of each epoch, the"
   ]
  },
  {
   "cell_type": "code",
   "execution_count": null,
   "id": "82f1ff3b",
   "metadata": {},
   "outputs": [],
   "source": [
    "## training loop for toxicity classification\n",
    "\n",
    "\n",
    "\n",
    "for epoch in range(0, num_epochs):\n",
    "    ex_indices = [i for i in range(0, len(train))]\n",
    "    random.shuffle(ex_indices)\n",
    "    total_loss = 0.0\n",
    "    \n",
    "    ffnn.train()\n",
    "    for idx in ex_indices:\n",
    "        \n",
    "        # get inputs in the right format\n",
    "        x = torch.Tensor(train[idx]['x'])\n",
    "        y = train[idx]['y']\n",
    "        y = torch.from_numpy(np.asarray(y,dtype=np.float32)).unsqueeze(-1)\n",
    "        \n",
    "        # Zero out the gradients from the FFNN object. *THIS IS VERY IMPORTANT TO DO BEFORE CALLING BACKWARD()*\n",
    "        ffnn.zero_grad()\n",
    "        y_hat = ffnn.forward(x)\n",
    "        \n",
    "        # Can also use built-in NLLLoss as a shortcut here but we're being explicit here\n",
    "        loss = ffnn.loss(y_hat, y)\n",
    "        total_loss += loss\n",
    "        \n",
    "        # Computes the gradient and takes the optimizer step\n",
    "        loss.backward()\n",
    "        optimizer.step()\n",
    "    print(\"Total loss on epoch %s: %f\" % (epoch, total_loss))\n",
    "    \n",
    "    ffnn.eval()\n",
    "    dev_y_hats = [predict(ffnn, embeddings, ex['comment_text']) for ex in dev]\n",
    "    print_evaluation(dev['y'], dev_y_hats)\n",
    "\n"
   ]
  },
  {
   "cell_type": "markdown",
   "id": "9403bf68",
   "metadata": {},
   "source": [
    "# Make Predictions"
   ]
  },
  {
   "cell_type": "markdown",
   "id": "7e74115e",
   "metadata": {},
   "source": [
    "Let's use the model to make some predictions:"
   ]
  },
  {
   "cell_type": "code",
   "execution_count": null,
   "id": "9eca2e04",
   "metadata": {},
   "outputs": [],
   "source": [
    "predict(ffnn, embeddings, \"fuck you you fucking fuck\")"
   ]
  },
  {
   "cell_type": "markdown",
   "id": "11baa63f",
   "metadata": {},
   "source": [
    "# Improving the Model with Features\n",
    "\n",
    "This works okay. How can we get better performance? See if you can improve the model to X F1 score. You could try using different embeddings. You could change the model itself, adding more layers or trying a different activation function. You could add dropout after one of the layers (this takes one line to implement with pytorch, but you might have to look up about what it is or how it's used). You can also add hand-crafted features in addition to the embeddings to serve as input. This is a very common strategy and usually helps a lot."
   ]
  },
  {
   "cell_type": "markdown",
   "id": "2983a42a",
   "metadata": {},
   "source": [
    "Instead of just representing the input as word embeddings, we can represent the input as a vector of word embeddings concatenated with additional dimensions that encode other variables we are interested in. The features can be real-valued, like: how many tokens are in the example? what's the average word length? Features can also be binary, like: does the sentence contain a question mark? \n",
    "\n",
    "For example, s length. Here is a new form_input that adds an average word length feature and a contains X feature"
   ]
  },
  {
   "cell_type": "code",
   "execution_count": null,
   "id": "f330ae86",
   "metadata": {},
   "outputs": [],
   "source": [
    "def extract_features(tokens):\n",
    "    question = 1 if True else 0\n",
    "    features = {\n",
    "        \"avg_word_length\": np.mean([len(t) for t in tokens]),\n",
    "        \"contains_q\": 1 if \"?\" in tokens else 0\n",
    "    }\n",
    "    return features\n",
    "\n",
    "def form_input_updated(example, word_embeddings):\n",
    "    \"\"\"\n",
    "    :example: training example from huggingface dataset in the form of a dictionary, e.g.\n",
    "    \n",
    "    {'comment_text': '\"\\nAnd ... I really don\\'t think you understand.  I came here and my idea was bad right away.  What kind of community goes \"\"you have bad ideas\"\" go away, instead of helping rewrite them.   \"',\n",
    "     'toxic': 0,\n",
    "     'severe_toxic': 0,\n",
    "     'obscene': 0,\n",
    "     'threat': 0,\n",
    "     'insult': 0,\n",
    "     'identity_hate': 0}\n",
    "\n",
    "    returns a dictionary with a new key, x, which maps to a vector representing the comment\n",
    "    \"\"\"\n",
    "    \n",
    "    if isinstance(example, str):\n",
    "        tokens = tokenize(example)\n",
    "        example = {} # dummy input dict\n",
    "    else:\n",
    "        tokens = tokenize(example['comment_text'])\n",
    "\n",
    "    vecs = []\n",
    "    for word in tokens:\n",
    "        try:\n",
    "            vec = word_embeddings[word]\n",
    "        except KeyError: # this token is not in our embeddings dictionary\n",
    "            vec = np.zeros(word_embeddings.vector_size)\n",
    "        vecs.append(vec)\n",
    "    \n",
    "    centroid = np.mean(vecs, axis=0)\n",
    "    \n",
    "    \n",
    "    features_dict = extract_features(tokens)\n",
    "    features_list = list(features_dict.values())\n",
    "    \n",
    "    final_vector = np.append(centroid, features_list, axis=0)\n",
    "    \n",
    "    # we need torch form which is a tensor, not a numpy array\n",
    "    \n",
    "    torch_tensor = torch.from_numpy(final_vector).float()\n",
    "    example['x'] = torch_tensor\n",
    "    return example\n",
    "    "
   ]
  },
  {
   "cell_type": "code",
   "execution_count": null,
   "id": "a024e655",
   "metadata": {},
   "outputs": [],
   "source": [
    "form_input_updated(\"hello my name is fhwfhjwhfjwklfjwj4klwfkl?\", embeddings)"
   ]
  },
  {
   "cell_type": "code",
   "execution_count": null,
   "id": "0f6102e0",
   "metadata": {},
   "outputs": [],
   "source": [
    "# re-form our inputs, make a new model and train that one. \n",
    "\n",
    "ffnn = FFNN(embeddings, embeddings.vector_size, hidden_size, 1)\n",
    "optimizer = optim.Adam(ffnn.parameters(), lr=initial_learning_rate)\n",
    "\n",
    "dataset = dataset.map(lambda ex: form_input_updated(ex, embeddings))\n"
   ]
  },
  {
   "cell_type": "code",
   "execution_count": null,
   "id": "7f1487e0",
   "metadata": {},
   "outputs": [],
   "source": [
    "dataset['train'][0][\"x\"]"
   ]
  },
  {
   "cell_type": "code",
   "execution_count": null,
   "id": "a6a3a7ca",
   "metadata": {},
   "outputs": [],
   "source": [
    "## training loop for toxicity classification\n",
    "\n",
    "\n",
    "\n",
    "for epoch in range(0, num_epochs):\n",
    "    ex_indices = [i for i in range(0, len(train))]\n",
    "    random.shuffle(ex_indices)\n",
    "    total_loss = 0.0\n",
    "    \n",
    "    ffnn.train()\n",
    "    for idx in ex_indices:\n",
    "        \n",
    "        # prepare input (x) and gold toxicity label (y) as torch Tensors\n",
    "        \n",
    "        x = torch.Tensor(train[idx]['x'])   \n",
    "        y = train[idx]['y']\n",
    "        y = torch.from_numpy(np.asarray(y,dtype=np.float32)).unsqueeze(-1)\n",
    "        \n",
    "        # Zero out the gradients from the FFNN object. *THIS IS VERY IMPORTANT TO DO BEFORE CALLING BACKWARD()*\n",
    "        ffnn.zero_grad()\n",
    "        y_hat = ffnn.forward(x)\n",
    "        \n",
    "        # Can also use built-in NLLLoss as a shortcut here but we're being explicit here\n",
    "        loss = ffnn.loss(y_hat, y)\n",
    "        total_loss += loss\n",
    "        \n",
    "        # Computes the gradient and takes the optimizer step\n",
    "        loss.backward()\n",
    "        optimizer.step()\n",
    "    print(\"Total loss on epoch %s: %f\" % (epoch, total_loss))\n",
    "    \n",
    "    ffnn.eval()\n",
    "    dev_y_hats = [predict(ffnn, embeddings, ex['comment_text']) for ex in dev]\n",
    "    print_evaluation(dev['y'], dev_y_hats)\n",
    "\n"
   ]
  },
  {
   "cell_type": "markdown",
   "id": "b90d4418",
   "metadata": {},
   "source": [
    "# Appendix: Example Training Loop\n",
    "\n",
    "Here is an example training loop for learning the XOR function"
   ]
  },
  {
   "cell_type": "code",
   "execution_count": null,
   "id": "1c1d222f",
   "metadata": {},
   "outputs": [],
   "source": [
    "# MAKE THE DATA\n",
    "# Synthetic data for XOR: y = x1 XOR x2\n",
    "train_xs = np.array([[0, 0], [0, 1], [1, 0], [1, 1]], dtype=np.float32)\n",
    "train_ys = np.array([0, 1, 1, 0], dtype=np.float32)\n",
    "\n",
    "# Define some constants\n",
    "# Inputs are of size 2\n",
    "feat_vec_size = 2\n",
    "\n",
    "# Let's use 4 hidden units\n",
    "embedding_size = 4\n",
    "\n",
    "# We're using 2 classes. What's presented here is multi-class code that can scale to more classes, though\n",
    "# slightly more compact code for the binary case is possible.\n",
    "num_classes = 1\n",
    "\n",
    "\n",
    "# set hyperparameters\n",
    "num_epochs = 100\n",
    "ffnn = FFNN(feat_vec_size, embedding_size, num_classes)\n",
    "initial_learning_rate = 0.1\n",
    "optimizer = optim.Adam(ffnn.parameters(), lr=initial_learning_rate)\n",
    "\n",
    "\n",
    "# RUN TRAINING\n",
    "for epoch in range(0, num_epochs):\n",
    "    \n",
    "    ex_indices = [i for i in range(0, len(train_xs))]\n",
    "    random.shuffle(ex_indices)\n",
    "    total_loss = 0.0\n",
    "\n",
    "    for idx in ex_indices:\n",
    "        x =  torch.from_numpy(train_xs[idx]).float()\n",
    "        y = train_ys[idx]\n",
    "        y = torch.from_numpy(np.asarray(y,dtype=np.float32)).unsqueeze(-1)\n",
    "\n",
    "        # Build one-hot representation of y. Instead of the label 0 or 1, y_onehot is either [0, 1] or [1, 0]. This\n",
    "        # way we can take the dot product directly with a probability vector to get class probabilities.\n",
    "        #y_onehot = torch.zeros(num_classes)\n",
    "        \n",
    "        # scatter will write the value of 1 into the position of y_onehot given by y\n",
    "        #y_onehot.scatter_(0, torch.from_numpy(np.asarray(y,dtype=np.int64)), 1)\n",
    "        # Zero out the gradients from the FFNN object. *THIS IS VERY IMPORTANT TO DO BEFORE CALLING BACKWARD()*\n",
    "        ffnn.zero_grad()\n",
    "        log_probs = ffnn.forward(x)\n",
    "        \n",
    "        print(x)\n",
    "        print(log_probs)\n",
    "        print(y)\n",
    "        \n",
    "        # Can also use built-in NLLLoss as a shortcut here but we're being explicit here\n",
    "        loss = ffnn.loss(log_probs, y)\n",
    "        \n",
    "        total_loss += loss\n",
    "        # Computes the gradient and takes the optimizer step\n",
    "        loss.backward()\n",
    "        optimizer.step()\n",
    "    print(\"Total loss on epoch %i: %f\" % (epoch, total_loss))\n",
    "    \n",
    "\n",
    "# Evaluate on the train set\n",
    "# RUN TRAINING AND TEST\n",
    "\n",
    "train_correct = 0\n",
    "for idx in range(0, len(train_xs)):\n",
    "    x = torch.from_numpy(train_xs[idx]).float()\n",
    "    y = train_ys[idx]\n",
    "    log_probs = ffnn.forward(x)\n",
    "    prediction = 1 if log_probs > 0.5 else 0\n",
    "    if y == prediction:\n",
    "        train_correct += 1\n",
    "    print(\"Example \" + repr(train_xs[idx]) + \"; gold = \" + repr(train_ys[idx]) + \"; pred = \" +\\\n",
    "          repr(prediction) + \" with probs \" + repr(log_probs))\n",
    "print(repr(train_correct) + \"/\" + repr(len(train_ys)) + \" correct after training\")"
   ]
  },
  {
   "cell_type": "markdown",
   "id": "58df9554",
   "metadata": {},
   "source": [
    "# References\n",
    "\n",
    "- https://vijaygadepalli.medium.com/toxic-comments-classification-696603741872\n",
    "    "
   ]
  },
  {
   "cell_type": "code",
   "execution_count": null,
   "id": "219db96a",
   "metadata": {},
   "outputs": [],
   "source": []
  }
 ],
 "metadata": {
  "kernelspec": {
   "display_name": "Python 3 (ipykernel)",
   "language": "python",
   "name": "python3"
  },
  "language_info": {
   "codemirror_mode": {
    "name": "ipython",
    "version": 3
   },
   "file_extension": ".py",
   "mimetype": "text/x-python",
   "name": "python",
   "nbconvert_exporter": "python",
   "pygments_lexer": "ipython3",
   "version": "3.11.4"
  }
 },
 "nbformat": 4,
 "nbformat_minor": 5
}
